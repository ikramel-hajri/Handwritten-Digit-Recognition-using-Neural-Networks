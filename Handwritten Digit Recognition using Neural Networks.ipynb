{
 "cells": [
  {
   "cell_type": "markdown",
   "id": "7edcf98f",
   "metadata": {},
   "source": [
    "# Handwritten Digits Recognition\n",
    "\n",
    "The goal of this code is to employ a fully-connected neural network for identifying handwritten digits. The model will be trained using the MNIST dataset, which comprises 70,000 grayscale images of 28 by 28 pixels depicting zip code digits along with their respective labels."
   ]
  },
  {
   "cell_type": "code",
   "execution_count": 1,
   "id": "4347d466",
   "metadata": {},
   "outputs": [],
   "source": [
    "import tensorflow as tf\n",
    "from tensorflow.keras.datasets.mnist import load_data"
   ]
  },
  {
   "cell_type": "markdown",
   "id": "3db6040f",
   "metadata": {},
   "source": [
    "## 1. Data Preprocessing\n",
    "1. Load the MNIST data set included in the tf.keras.datasets.mnist module."
   ]
  },
  {
   "cell_type": "code",
   "execution_count": 2,
   "id": "155c7bbe",
   "metadata": {},
   "outputs": [],
   "source": [
    "(X_train, Y_train), (X_test, Y_test) = load_data()"
   ]
  },
  {
   "cell_type": "code",
   "execution_count": 3,
   "id": "8cc28e54",
   "metadata": {},
   "outputs": [
    {
     "data": {
      "text/plain": [
       "((60000, 28, 28), (60000,), (10000, 28, 28), (10000,))"
      ]
     },
     "execution_count": 3,
     "metadata": {},
     "output_type": "execute_result"
    }
   ],
   "source": [
    "X_train.shape, Y_train.shape,X_test.shape, Y_test.shape"
   ]
  },
  {
   "cell_type": "markdown",
   "id": "5ba21496",
   "metadata": {},
   "source": [
    "60000 images of 28*28 pixes"
   ]
  },
  {
   "cell_type": "markdown",
   "id": "91426f01",
   "metadata": {},
   "source": [
    "3. Display some MNIST images with their corresponding labels."
   ]
  },
  {
   "cell_type": "code",
   "execution_count": 4,
   "id": "77556458",
   "metadata": {},
   "outputs": [
    {
     "data": {
      "text/plain": [
       "array([[  0,   0,   0,   0,   0,   0,   0,   0,   0,   0,   0,   0,   0,\n",
       "          0,   0,   0,   0,   0,   0,   0,   0,   0,   0,   0,   0,   0,\n",
       "          0,   0],\n",
       "       [  0,   0,   0,   0,   0,   0,   0,   0,   0,   0,   0,   0,   0,\n",
       "          0,   0,   0,   0,   0,   0,   0,   0,   0,   0,   0,   0,   0,\n",
       "          0,   0],\n",
       "       [  0,   0,   0,   0,   0,   0,   0,   0,   0,   0,   0,   0,   0,\n",
       "          0,   0,   0,   0,   0,   0,   0,   0,   0,   0,   0,   0,   0,\n",
       "          0,   0],\n",
       "       [  0,   0,   0,   0,   0,   0,   0,   0,   0,   0,   0,   0,   0,\n",
       "          0,   0,   0,   0,   0,   0,   0,   0,   0,   0,   0,   0,   0,\n",
       "          0,   0],\n",
       "       [  0,   0,   0,   0,   0,   0,   0,   0,   0,   0,   0,   0,   0,\n",
       "          0,   0,   0,   0,   0,   0,   0,   0,   0,   0,   0,   0,   0,\n",
       "          0,   0],\n",
       "       [  0,   0,   0,   0,   0,   0,   0,   0,   0,   0,   0,   0,   3,\n",
       "         18,  18,  18, 126, 136, 175,  26, 166, 255, 247, 127,   0,   0,\n",
       "          0,   0],\n",
       "       [  0,   0,   0,   0,   0,   0,   0,   0,  30,  36,  94, 154, 170,\n",
       "        253, 253, 253, 253, 253, 225, 172, 253, 242, 195,  64,   0,   0,\n",
       "          0,   0],\n",
       "       [  0,   0,   0,   0,   0,   0,   0,  49, 238, 253, 253, 253, 253,\n",
       "        253, 253, 253, 253, 251,  93,  82,  82,  56,  39,   0,   0,   0,\n",
       "          0,   0],\n",
       "       [  0,   0,   0,   0,   0,   0,   0,  18, 219, 253, 253, 253, 253,\n",
       "        253, 198, 182, 247, 241,   0,   0,   0,   0,   0,   0,   0,   0,\n",
       "          0,   0],\n",
       "       [  0,   0,   0,   0,   0,   0,   0,   0,  80, 156, 107, 253, 253,\n",
       "        205,  11,   0,  43, 154,   0,   0,   0,   0,   0,   0,   0,   0,\n",
       "          0,   0],\n",
       "       [  0,   0,   0,   0,   0,   0,   0,   0,   0,  14,   1, 154, 253,\n",
       "         90,   0,   0,   0,   0,   0,   0,   0,   0,   0,   0,   0,   0,\n",
       "          0,   0],\n",
       "       [  0,   0,   0,   0,   0,   0,   0,   0,   0,   0,   0, 139, 253,\n",
       "        190,   2,   0,   0,   0,   0,   0,   0,   0,   0,   0,   0,   0,\n",
       "          0,   0],\n",
       "       [  0,   0,   0,   0,   0,   0,   0,   0,   0,   0,   0,  11, 190,\n",
       "        253,  70,   0,   0,   0,   0,   0,   0,   0,   0,   0,   0,   0,\n",
       "          0,   0],\n",
       "       [  0,   0,   0,   0,   0,   0,   0,   0,   0,   0,   0,   0,  35,\n",
       "        241, 225, 160, 108,   1,   0,   0,   0,   0,   0,   0,   0,   0,\n",
       "          0,   0],\n",
       "       [  0,   0,   0,   0,   0,   0,   0,   0,   0,   0,   0,   0,   0,\n",
       "         81, 240, 253, 253, 119,  25,   0,   0,   0,   0,   0,   0,   0,\n",
       "          0,   0],\n",
       "       [  0,   0,   0,   0,   0,   0,   0,   0,   0,   0,   0,   0,   0,\n",
       "          0,  45, 186, 253, 253, 150,  27,   0,   0,   0,   0,   0,   0,\n",
       "          0,   0],\n",
       "       [  0,   0,   0,   0,   0,   0,   0,   0,   0,   0,   0,   0,   0,\n",
       "          0,   0,  16,  93, 252, 253, 187,   0,   0,   0,   0,   0,   0,\n",
       "          0,   0],\n",
       "       [  0,   0,   0,   0,   0,   0,   0,   0,   0,   0,   0,   0,   0,\n",
       "          0,   0,   0,   0, 249, 253, 249,  64,   0,   0,   0,   0,   0,\n",
       "          0,   0],\n",
       "       [  0,   0,   0,   0,   0,   0,   0,   0,   0,   0,   0,   0,   0,\n",
       "          0,  46, 130, 183, 253, 253, 207,   2,   0,   0,   0,   0,   0,\n",
       "          0,   0],\n",
       "       [  0,   0,   0,   0,   0,   0,   0,   0,   0,   0,   0,   0,  39,\n",
       "        148, 229, 253, 253, 253, 250, 182,   0,   0,   0,   0,   0,   0,\n",
       "          0,   0],\n",
       "       [  0,   0,   0,   0,   0,   0,   0,   0,   0,   0,  24, 114, 221,\n",
       "        253, 253, 253, 253, 201,  78,   0,   0,   0,   0,   0,   0,   0,\n",
       "          0,   0],\n",
       "       [  0,   0,   0,   0,   0,   0,   0,   0,  23,  66, 213, 253, 253,\n",
       "        253, 253, 198,  81,   2,   0,   0,   0,   0,   0,   0,   0,   0,\n",
       "          0,   0],\n",
       "       [  0,   0,   0,   0,   0,   0,  18, 171, 219, 253, 253, 253, 253,\n",
       "        195,  80,   9,   0,   0,   0,   0,   0,   0,   0,   0,   0,   0,\n",
       "          0,   0],\n",
       "       [  0,   0,   0,   0,  55, 172, 226, 253, 253, 253, 253, 244, 133,\n",
       "         11,   0,   0,   0,   0,   0,   0,   0,   0,   0,   0,   0,   0,\n",
       "          0,   0],\n",
       "       [  0,   0,   0,   0, 136, 253, 253, 253, 212, 135, 132,  16,   0,\n",
       "          0,   0,   0,   0,   0,   0,   0,   0,   0,   0,   0,   0,   0,\n",
       "          0,   0],\n",
       "       [  0,   0,   0,   0,   0,   0,   0,   0,   0,   0,   0,   0,   0,\n",
       "          0,   0,   0,   0,   0,   0,   0,   0,   0,   0,   0,   0,   0,\n",
       "          0,   0],\n",
       "       [  0,   0,   0,   0,   0,   0,   0,   0,   0,   0,   0,   0,   0,\n",
       "          0,   0,   0,   0,   0,   0,   0,   0,   0,   0,   0,   0,   0,\n",
       "          0,   0],\n",
       "       [  0,   0,   0,   0,   0,   0,   0,   0,   0,   0,   0,   0,   0,\n",
       "          0,   0,   0,   0,   0,   0,   0,   0,   0,   0,   0,   0,   0,\n",
       "          0,   0]], dtype=uint8)"
      ]
     },
     "execution_count": 4,
     "metadata": {},
     "output_type": "execute_result"
    }
   ],
   "source": [
    "X_train[0]"
   ]
  },
  {
   "cell_type": "code",
   "execution_count": 5,
   "id": "ffad1a63",
   "metadata": {},
   "outputs": [
    {
     "data": {
      "text/plain": [
       "5"
      ]
     },
     "execution_count": 5,
     "metadata": {},
     "output_type": "execute_result"
    }
   ],
   "source": [
    "Y_train[0]"
   ]
  },
  {
   "cell_type": "code",
   "execution_count": 6,
   "id": "bac49da5",
   "metadata": {},
   "outputs": [
    {
     "data": {
      "text/plain": [
       "<matplotlib.image.AxesImage at 0x23d727965b0>"
      ]
     },
     "execution_count": 6,
     "metadata": {},
     "output_type": "execute_result"
    },
    {
     "data": {
      "image/png": "[encoded data removed]",
      "text/plain": [
       "<Figure size 640x480 with 1 Axes>"
      ]
     },
     "metadata": {},
     "output_type": "display_data"
    }
   ],
   "source": [
    "import matplotlib.pyplot as plt\n",
    "plt.imshow(X_train[0], cmap='gray')"
   ]
  },
  {
   "cell_type": "code",
   "execution_count": 7,
   "id": "524e7c75",
   "metadata": {},
   "outputs": [
    {
     "name": "stdout",
     "output_type": "stream",
     "text": [
      "This image corresponds to 5\n"
     ]
    },
    {
     "data": {
      "image/png": "[encoded data removed]",
      "text/plain": [
       "<Figure size 100x100 with 1 Axes>"
      ]
     },
     "metadata": {},
     "output_type": "display_data"
    },
    {
     "name": "stdout",
     "output_type": "stream",
     "text": [
      "This image corresponds to 0\n"
     ]
    },
    {
     "data": {
      "image/png": "[encoded data removed]",
      "text/plain": [
       "<Figure size 100x100 with 1 Axes>"
      ]
     },
     "metadata": {},
     "output_type": "display_data"
    },
    {
     "name": "stdout",
     "output_type": "stream",
     "text": [
      "This image corresponds to 4\n"
     ]
    },
    {
     "data": {
      "image/png": "[encoded data removed]",
      "text/plain": [
       "<Figure size 100x100 with 1 Axes>"
      ]
     },
     "metadata": {},
     "output_type": "display_data"
    },
    {
     "name": "stdout",
     "output_type": "stream",
     "text": [
      "This image corresponds to 1\n"
     ]
    },
    {
     "data": {
      "image/png": "[encoded data removed]",
      "text/plain": [
       "<Figure size 100x100 with 1 Axes>"
      ]
     },
     "metadata": {},
     "output_type": "display_data"
    },
    {
     "name": "stdout",
     "output_type": "stream",
     "text": [
      "This image corresponds to 9\n"
     ]
    },
    {
     "data": {
      "image/png": "[encoded data removed]",
      "text/plain": [
       "<Figure size 100x100 with 1 Axes>"
      ]
     },
     "metadata": {},
     "output_type": "display_data"
    },
    {
     "name": "stdout",
     "output_type": "stream",
     "text": [
      "This image corresponds to 2\n"
     ]
    },
    {
     "data": {
      "image/png": "[encoded data removed]",
      "text/plain": [
       "<Figure size 100x100 with 1 Axes>"
      ]
     },
     "metadata": {},
     "output_type": "display_data"
    },
    {
     "name": "stdout",
     "output_type": "stream",
     "text": [
      "This image corresponds to 1\n"
     ]
    },
    {
     "data": {
      "image/png": "[encoded data removed]",
      "text/plain": [
       "<Figure size 100x100 with 1 Axes>"
      ]
     },
     "metadata": {},
     "output_type": "display_data"
    },
    {
     "name": "stdout",
     "output_type": "stream",
     "text": [
      "This image corresponds to 3\n"
     ]
    },
    {
     "data": {
      "image/png": "[encoded data removed]",
      "text/plain": [
       "<Figure size 100x100 with 1 Axes>"
      ]
     },
     "metadata": {},
     "output_type": "display_data"
    },
    {
     "name": "stdout",
     "output_type": "stream",
     "text": [
      "This image corresponds to 1\n"
     ]
    },
    {
     "data": {
      "image/png": "[encoded data removed]",
      "text/plain": [
       "<Figure size 100x100 with 1 Axes>"
      ]
     },
     "metadata": {},
     "output_type": "display_data"
    },
    {
     "name": "stdout",
     "output_type": "stream",
     "text": [
      "This image corresponds to 4\n"
     ]
    },
    {
     "data": {
      "image/png": "[encoded data removed]",
      "text/plain": [
       "<Figure size 100x100 with 1 Axes>"
      ]
     },
     "metadata": {},
     "output_type": "display_data"
    }
   ],
   "source": [
    "for i in range(10):\n",
    "    plt.figure(figsize=(1, 1))\n",
    "    plt.imshow(X_train[i], cmap='gray')\n",
    "    print(f\"This image corresponds to {Y_train[i]}\")\n",
    "    plt.show()\n"
   ]
  },
  {
   "cell_type": "markdown",
   "id": "42aad01f",
   "metadata": {},
   "source": [
    "2. The MNIST images’ pixels are encoded on unsigned 8 bit blocks. Scale the training and the testing images.\n",
    "- In order to scale the images the pixel values are between 0-255 so we will just devide them by 255(use the min-max scaler)\n",
    "- we shouldn't scale the Y!"
   ]
  },
  {
   "cell_type": "code",
   "execution_count": 8,
   "id": "2dc3e97a",
   "metadata": {},
   "outputs": [],
   "source": [
    "X_train_scaled = X_train / 255.  #(8*8)\n",
    "X_test_scaled = X_test / 255."
   ]
  },
  {
   "cell_type": "code",
   "execution_count": 9,
   "id": "3f00d0d3",
   "metadata": {},
   "outputs": [
    {
     "data": {
      "text/plain": [
       "array([[0.        , 0.        , 0.        , 0.        , 0.        ,\n",
       "        0.        , 0.        , 0.        , 0.        , 0.        ,\n",
       "        0.        , 0.        , 0.        , 0.        , 0.        ,\n",
       "        0.        , 0.        , 0.        , 0.        , 0.        ,\n",
       "        0.        , 0.        , 0.        , 0.        , 0.        ,\n",
       "        0.        , 0.        , 0.        ],\n",
       "       [0.        , 0.        , 0.        , 0.        , 0.        ,\n",
       "        0.        , 0.        , 0.        , 0.        , 0.        ,\n",
       "        0.        , 0.        , 0.        , 0.        , 0.        ,\n",
       "        0.        , 0.        , 0.        , 0.        , 0.        ,\n",
       "        0.        , 0.        , 0.        , 0.        , 0.        ,\n",
       "        0.        , 0.        , 0.        ],\n",
       "       [0.        , 0.        , 0.        , 0.        , 0.        ,\n",
       "        0.        , 0.        , 0.        , 0.        , 0.        ,\n",
       "        0.        , 0.        , 0.        , 0.        , 0.        ,\n",
       "        0.        , 0.        , 0.        , 0.        , 0.        ,\n",
       "        0.        , 0.        , 0.        , 0.        , 0.        ,\n",
       "        0.        , 0.        , 0.        ],\n",
       "       [0.        , 0.        , 0.        , 0.        , 0.        ,\n",
       "        0.        , 0.        , 0.        , 0.        , 0.        ,\n",
       "        0.        , 0.        , 0.        , 0.        , 0.        ,\n",
       "        0.        , 0.        , 0.        , 0.        , 0.        ,\n",
       "        0.        , 0.        , 0.        , 0.        , 0.        ,\n",
       "        0.        , 0.        , 0.        ],\n",
       "       [0.        , 0.        , 0.        , 0.        , 0.        ,\n",
       "        0.        , 0.        , 0.        , 0.        , 0.        ,\n",
       "        0.        , 0.        , 0.        , 0.        , 0.        ,\n",
       "        0.        , 0.        , 0.        , 0.        , 0.        ,\n",
       "        0.        , 0.        , 0.        , 0.        , 0.        ,\n",
       "        0.        , 0.        , 0.        ],\n",
       "       [0.        , 0.        , 0.        , 0.        , 0.        ,\n",
       "        0.        , 0.        , 0.        , 0.        , 0.        ,\n",
       "        0.        , 0.        , 0.01176471, 0.07058824, 0.07058824,\n",
       "        0.07058824, 0.49411765, 0.53333333, 0.68627451, 0.10196078,\n",
       "        0.65098039, 1.        , 0.96862745, 0.49803922, 0.        ,\n",
       "        0.        , 0.        , 0.        ],\n",
       "       [0.        , 0.        , 0.        , 0.        , 0.        ,\n",
       "        0.        , 0.        , 0.        , 0.11764706, 0.14117647,\n",
       "        0.36862745, 0.60392157, 0.66666667, 0.99215686, 0.99215686,\n",
       "        0.99215686, 0.99215686, 0.99215686, 0.88235294, 0.6745098 ,\n",
       "        0.99215686, 0.94901961, 0.76470588, 0.25098039, 0.        ,\n",
       "        0.        , 0.        , 0.        ],\n",
       "       [0.        , 0.        , 0.        , 0.        , 0.        ,\n",
       "        0.        , 0.        , 0.19215686, 0.93333333, 0.99215686,\n",
       "        0.99215686, 0.99215686, 0.99215686, 0.99215686, 0.99215686,\n",
       "        0.99215686, 0.99215686, 0.98431373, 0.36470588, 0.32156863,\n",
       "        0.32156863, 0.21960784, 0.15294118, 0.        , 0.        ,\n",
       "        0.        , 0.        , 0.        ],\n",
       "       [0.        , 0.        , 0.        , 0.        , 0.        ,\n",
       "        0.        , 0.        , 0.07058824, 0.85882353, 0.99215686,\n",
       "        0.99215686, 0.99215686, 0.99215686, 0.99215686, 0.77647059,\n",
       "        0.71372549, 0.96862745, 0.94509804, 0.        , 0.        ,\n",
       "        0.        , 0.        , 0.        , 0.        , 0.        ,\n",
       "        0.        , 0.        , 0.        ],\n",
       "       [0.        , 0.        , 0.        , 0.        , 0.        ,\n",
       "        0.        , 0.        , 0.        , 0.31372549, 0.61176471,\n",
       "        0.41960784, 0.99215686, 0.99215686, 0.80392157, 0.04313725,\n",
       "        0.        , 0.16862745, 0.60392157, 0.        , 0.        ,\n",
       "        0.        , 0.        , 0.        , 0.        , 0.        ,\n",
       "        0.        , 0.        , 0.        ],\n",
       "       [0.        , 0.        , 0.        , 0.        , 0.        ,\n",
       "        0.        , 0.        , 0.        , 0.        , 0.05490196,\n",
       "        0.00392157, 0.60392157, 0.99215686, 0.35294118, 0.        ,\n",
       "        0.        , 0.        , 0.        , 0.        , 0.        ,\n",
       "        0.        , 0.        , 0.        , 0.        , 0.        ,\n",
       "        0.        , 0.        , 0.        ],\n",
       "       [0.        , 0.        , 0.        , 0.        , 0.        ,\n",
       "        0.        , 0.        , 0.        , 0.        , 0.        ,\n",
       "        0.        , 0.54509804, 0.99215686, 0.74509804, 0.00784314,\n",
       "        0.        , 0.        , 0.        , 0.        , 0.        ,\n",
       "        0.        , 0.        , 0.        , 0.        , 0.        ,\n",
       "        0.        , 0.        , 0.        ],\n",
       "       [0.        , 0.        , 0.        , 0.        , 0.        ,\n",
       "        0.        , 0.        , 0.        , 0.        , 0.        ,\n",
       "        0.        , 0.04313725, 0.74509804, 0.99215686, 0.2745098 ,\n",
       "        0.        , 0.        , 0.        , 0.        , 0.        ,\n",
       "        0.        , 0.        , 0.        , 0.        , 0.        ,\n",
       "        0.        , 0.        , 0.        ],\n",
       "       [0.        , 0.        , 0.        , 0.        , 0.        ,\n",
       "        0.        , 0.        , 0.        , 0.        , 0.        ,\n",
       "        0.        , 0.        , 0.1372549 , 0.94509804, 0.88235294,\n",
       "        0.62745098, 0.42352941, 0.00392157, 0.        , 0.        ,\n",
       "        0.        , 0.        , 0.        , 0.        , 0.        ,\n",
       "        0.        , 0.        , 0.        ],\n",
       "       [0.        , 0.        , 0.        , 0.        , 0.        ,\n",
       "        0.        , 0.        , 0.        , 0.        , 0.        ,\n",
       "        0.        , 0.        , 0.        , 0.31764706, 0.94117647,\n",
       "        0.99215686, 0.99215686, 0.46666667, 0.09803922, 0.        ,\n",
       "        0.        , 0.        , 0.        , 0.        , 0.        ,\n",
       "        0.        , 0.        , 0.        ],\n",
       "       [0.        , 0.        , 0.        , 0.        , 0.        ,\n",
       "        0.        , 0.        , 0.        , 0.        , 0.        ,\n",
       "        0.        , 0.        , 0.        , 0.        , 0.17647059,\n",
       "        0.72941176, 0.99215686, 0.99215686, 0.58823529, 0.10588235,\n",
       "        0.        , 0.        , 0.        , 0.        , 0.        ,\n",
       "        0.        , 0.        , 0.        ],\n",
       "       [0.        , 0.        , 0.        , 0.        , 0.        ,\n",
       "        0.        , 0.        , 0.        , 0.        , 0.        ,\n",
       "        0.        , 0.        , 0.        , 0.        , 0.        ,\n",
       "        0.0627451 , 0.36470588, 0.98823529, 0.99215686, 0.73333333,\n",
       "        0.        , 0.        , 0.        , 0.        , 0.        ,\n",
       "        0.        , 0.        , 0.        ],\n",
       "       [0.        , 0.        , 0.        , 0.        , 0.        ,\n",
       "        0.        , 0.        , 0.        , 0.        , 0.        ,\n",
       "        0.        , 0.        , 0.        , 0.        , 0.        ,\n",
       "        0.        , 0.        , 0.97647059, 0.99215686, 0.97647059,\n",
       "        0.25098039, 0.        , 0.        , 0.        , 0.        ,\n",
       "        0.        , 0.        , 0.        ],\n",
       "       [0.        , 0.        , 0.        , 0.        , 0.        ,\n",
       "        0.        , 0.        , 0.        , 0.        , 0.        ,\n",
       "        0.        , 0.        , 0.        , 0.        , 0.18039216,\n",
       "        0.50980392, 0.71764706, 0.99215686, 0.99215686, 0.81176471,\n",
       "        0.00784314, 0.        , 0.        , 0.        , 0.        ,\n",
       "        0.        , 0.        , 0.        ],\n",
       "       [0.        , 0.        , 0.        , 0.        , 0.        ,\n",
       "        0.        , 0.        , 0.        , 0.        , 0.        ,\n",
       "        0.        , 0.        , 0.15294118, 0.58039216, 0.89803922,\n",
       "        0.99215686, 0.99215686, 0.99215686, 0.98039216, 0.71372549,\n",
       "        0.        , 0.        , 0.        , 0.        , 0.        ,\n",
       "        0.        , 0.        , 0.        ],\n",
       "       [0.        , 0.        , 0.        , 0.        , 0.        ,\n",
       "        0.        , 0.        , 0.        , 0.        , 0.        ,\n",
       "        0.09411765, 0.44705882, 0.86666667, 0.99215686, 0.99215686,\n",
       "        0.99215686, 0.99215686, 0.78823529, 0.30588235, 0.        ,\n",
       "        0.        , 0.        , 0.        , 0.        , 0.        ,\n",
       "        0.        , 0.        , 0.        ],\n",
       "       [0.        , 0.        , 0.        , 0.        , 0.        ,\n",
       "        0.        , 0.        , 0.        , 0.09019608, 0.25882353,\n",
       "        0.83529412, 0.99215686, 0.99215686, 0.99215686, 0.99215686,\n",
       "        0.77647059, 0.31764706, 0.00784314, 0.        , 0.        ,\n",
       "        0.        , 0.        , 0.        , 0.        , 0.        ,\n",
       "        0.        , 0.        , 0.        ],\n",
       "       [0.        , 0.        , 0.        , 0.        , 0.        ,\n",
       "        0.        , 0.07058824, 0.67058824, 0.85882353, 0.99215686,\n",
       "        0.99215686, 0.99215686, 0.99215686, 0.76470588, 0.31372549,\n",
       "        0.03529412, 0.        , 0.        , 0.        , 0.        ,\n",
       "        0.        , 0.        , 0.        , 0.        , 0.        ,\n",
       "        0.        , 0.        , 0.        ],\n",
       "       [0.        , 0.        , 0.        , 0.        , 0.21568627,\n",
       "        0.6745098 , 0.88627451, 0.99215686, 0.99215686, 0.99215686,\n",
       "        0.99215686, 0.95686275, 0.52156863, 0.04313725, 0.        ,\n",
       "        0.        , 0.        , 0.        , 0.        , 0.        ,\n",
       "        0.        , 0.        , 0.        , 0.        , 0.        ,\n",
       "        0.        , 0.        , 0.        ],\n",
       "       [0.        , 0.        , 0.        , 0.        , 0.53333333,\n",
       "        0.99215686, 0.99215686, 0.99215686, 0.83137255, 0.52941176,\n",
       "        0.51764706, 0.0627451 , 0.        , 0.        , 0.        ,\n",
       "        0.        , 0.        , 0.        , 0.        , 0.        ,\n",
       "        0.        , 0.        , 0.        , 0.        , 0.        ,\n",
       "        0.        , 0.        , 0.        ],\n",
       "       [0.        , 0.        , 0.        , 0.        , 0.        ,\n",
       "        0.        , 0.        , 0.        , 0.        , 0.        ,\n",
       "        0.        , 0.        , 0.        , 0.        , 0.        ,\n",
       "        0.        , 0.        , 0.        , 0.        , 0.        ,\n",
       "        0.        , 0.        , 0.        , 0.        , 0.        ,\n",
       "        0.        , 0.        , 0.        ],\n",
       "       [0.        , 0.        , 0.        , 0.        , 0.        ,\n",
       "        0.        , 0.        , 0.        , 0.        , 0.        ,\n",
       "        0.        , 0.        , 0.        , 0.        , 0.        ,\n",
       "        0.        , 0.        , 0.        , 0.        , 0.        ,\n",
       "        0.        , 0.        , 0.        , 0.        , 0.        ,\n",
       "        0.        , 0.        , 0.        ],\n",
       "       [0.        , 0.        , 0.        , 0.        , 0.        ,\n",
       "        0.        , 0.        , 0.        , 0.        , 0.        ,\n",
       "        0.        , 0.        , 0.        , 0.        , 0.        ,\n",
       "        0.        , 0.        , 0.        , 0.        , 0.        ,\n",
       "        0.        , 0.        , 0.        , 0.        , 0.        ,\n",
       "        0.        , 0.        , 0.        ]])"
      ]
     },
     "execution_count": 9,
     "metadata": {},
     "output_type": "execute_result"
    }
   ],
   "source": [
    "X_train_scaled[0]"
   ]
  },
  {
   "cell_type": "markdown",
   "id": "d30be480",
   "metadata": {},
   "source": [
    "4. Convert the training and the testing labels to one-hot encoding using tf.keras.to_categorical function.\n",
    "- why we use one-hot encoding?\n",
    "It allows the use of categorical variables in models that require numerical input."
   ]
  },
  {
   "cell_type": "code",
   "execution_count": 10,
   "id": "49e6c5c0",
   "metadata": {},
   "outputs": [],
   "source": [
    "from tensorflow.keras.utils import to_categorical\n",
    "Y_train_hot = to_categorical(Y_train, num_classes = 10)\n",
    "Y_test_hot = to_categorical(Y_test, num_classes = 10)"
   ]
  },
  {
   "cell_type": "code",
   "execution_count": 11,
   "id": "0c6791a5",
   "metadata": {},
   "outputs": [
    {
     "data": {
      "text/plain": [
       "array([0., 0., 0., 0., 1., 0., 0., 0., 0., 0.], dtype=float32)"
      ]
     },
     "execution_count": 11,
     "metadata": {},
     "output_type": "execute_result"
    }
   ],
   "source": [
    "Y_train_hot[2]"
   ]
  },
  {
   "cell_type": "code",
   "execution_count": 12,
   "id": "804d9632",
   "metadata": {},
   "outputs": [
    {
     "data": {
      "text/plain": [
       "2"
      ]
     },
     "execution_count": 12,
     "metadata": {},
     "output_type": "execute_result"
    }
   ],
   "source": [
    "Y_test[1]"
   ]
  },
  {
   "cell_type": "markdown",
   "id": "737a54ec",
   "metadata": {},
   "source": [
    "## 2 Model Architecture\n",
    "1. Using tf.keras, create one-layer neural network to classify digits. The model should take as input numpy arrays of shape (28, 28) which should in their turn be flattened to 784 values. The model outputs the prediction probabilities through a softmax activation layer."
   ]
  },
  {
   "cell_type": "code",
   "execution_count": 13,
   "id": "12927632",
   "metadata": {},
   "outputs": [],
   "source": [
    "from tensorflow.keras.models import Sequential as sq\n",
    "model = sq([\n",
    "    tf.keras.layers.Input(shape=(28,28)),\n",
    "    tf.keras.layers.Flatten(),\n",
    "    tf.keras.layers.Dense(10),  # here we do the initialization of the params\n",
    "    tf.keras.layers.Activation('softmax')\n",
    "])\n"
   ]
  },
  {
   "cell_type": "markdown",
   "id": "4c4aca04",
   "metadata": {},
   "source": [
    "2. Display the model’s architecture using the summary() method. How many trainable parameters are comprised in our model?\n"
   ]
  },
  {
   "cell_type": "code",
   "execution_count": 14,
   "id": "42c3382d",
   "metadata": {},
   "outputs": [
    {
     "name": "stdout",
     "output_type": "stream",
     "text": [
      "Model: \"sequential\"\n",
      "_________________________________________________________________\n",
      " Layer (type)                Output Shape              Param #   \n",
      "=================================================================\n",
      " flatten (Flatten)           (None, 784)               0         \n",
      "                                                                 \n",
      " dense (Dense)               (None, 10)                7850      \n",
      "                                                                 \n",
      " activation (Activation)     (None, 10)                0         \n",
      "                                                                 \n",
      "=================================================================\n",
      "Total params: 7850 (30.66 KB)\n",
      "Trainable params: 7850 (30.66 KB)\n",
      "Non-trainable params: 0 (0.00 Byte)\n",
      "_________________________________________________________________\n"
     ]
    }
   ],
   "source": [
    "model.summary()"
   ]
  },
  {
   "cell_type": "markdown",
   "id": "eb7ef51d",
   "metadata": {},
   "source": [
    "##  3 Model Training and Evaluation\n",
    "1. Train the model using the following hyper-parameters. Make sure to choose the appropriate loss function and\n",
    "- Learning algorithm: SGD\n",
    "- Learning rate: 0.01\n",
    "- Mini-batch size: 32\n",
    "- Number of training epochs: 30\n",
    "- Validation set size: 25% of the training set"
   ]
  },
  {
   "cell_type": "code",
   "execution_count": 15,
   "id": "58daa4b8",
   "metadata": {},
   "outputs": [],
   "source": [
    "model.compile(loss='categorical_crossentropy',\n",
    "             optimizer=tf.keras.optimizers.SGD(learning_rate=0.01),\n",
    "             metrics=['accuracy'])"
   ]
  },
  {
   "cell_type": "code",
   "execution_count": 18,
   "id": "dc8d0bee",
   "metadata": {},
   "outputs": [
    {
     "name": "stdout",
     "output_type": "stream",
     "text": [
      "Epoch 1/30\n",
      "1407/1407 [==============================] - 5s 4ms/step - loss: 0.3875 - accuracy: 0.8947 - val_loss: 0.3680 - val_accuracy: 0.8996\n",
      "Epoch 2/30\n",
      "1407/1407 [==============================] - 7s 5ms/step - loss: 0.3717 - accuracy: 0.8984 - val_loss: 0.3561 - val_accuracy: 0.9016\n",
      "Epoch 3/30\n",
      "1407/1407 [==============================] - 8s 6ms/step - loss: 0.3600 - accuracy: 0.9007 - val_loss: 0.3477 - val_accuracy: 0.9039\n",
      "Epoch 4/30\n",
      "1407/1407 [==============================] - 5s 4ms/step - loss: 0.3508 - accuracy: 0.9028 - val_loss: 0.3402 - val_accuracy: 0.9057\n",
      "Epoch 5/30\n",
      "1407/1407 [==============================] - 11s 8ms/step - loss: 0.3435 - accuracy: 0.9042 - val_loss: 0.3345 - val_accuracy: 0.9073\n",
      "Epoch 6/30\n",
      "1407/1407 [==============================] - 6s 4ms/step - loss: 0.3374 - accuracy: 0.9057 - val_loss: 0.3296 - val_accuracy: 0.9087\n",
      "Epoch 7/30\n",
      "1407/1407 [==============================] - 9s 6ms/step - loss: 0.3322 - accuracy: 0.9077 - val_loss: 0.3263 - val_accuracy: 0.9094\n",
      "Epoch 8/30\n",
      "1407/1407 [==============================] - 10s 7ms/step - loss: 0.3276 - accuracy: 0.9083 - val_loss: 0.3228 - val_accuracy: 0.9105\n",
      "Epoch 9/30\n",
      "1407/1407 [==============================] - 9s 6ms/step - loss: 0.3238 - accuracy: 0.9096 - val_loss: 0.3195 - val_accuracy: 0.9111\n",
      "Epoch 10/30\n",
      "1407/1407 [==============================] - 9s 6ms/step - loss: 0.3201 - accuracy: 0.9110 - val_loss: 0.3169 - val_accuracy: 0.9119\n",
      "Epoch 11/30\n",
      "1407/1407 [==============================] - 9s 6ms/step - loss: 0.3169 - accuracy: 0.9115 - val_loss: 0.3151 - val_accuracy: 0.9124\n",
      "Epoch 12/30\n",
      "1407/1407 [==============================] - 9s 6ms/step - loss: 0.3142 - accuracy: 0.9128 - val_loss: 0.3130 - val_accuracy: 0.9127\n",
      "Epoch 13/30\n",
      "1407/1407 [==============================] - 7s 5ms/step - loss: 0.3115 - accuracy: 0.9130 - val_loss: 0.3107 - val_accuracy: 0.9129\n",
      "Epoch 14/30\n",
      "1407/1407 [==============================] - 12s 8ms/step - loss: 0.3092 - accuracy: 0.9138 - val_loss: 0.3086 - val_accuracy: 0.9145\n",
      "Epoch 15/30\n",
      "1407/1407 [==============================] - 8s 6ms/step - loss: 0.3072 - accuracy: 0.9146 - val_loss: 0.3072 - val_accuracy: 0.9149\n",
      "Epoch 16/30\n",
      "1407/1407 [==============================] - 7s 5ms/step - loss: 0.3050 - accuracy: 0.9149 - val_loss: 0.3063 - val_accuracy: 0.9142\n",
      "Epoch 17/30\n",
      "1407/1407 [==============================] - 10s 7ms/step - loss: 0.3033 - accuracy: 0.9154 - val_loss: 0.3046 - val_accuracy: 0.9156\n",
      "Epoch 18/30\n",
      "1407/1407 [==============================] - 11s 8ms/step - loss: 0.3016 - accuracy: 0.9158 - val_loss: 0.3032 - val_accuracy: 0.9151\n",
      "Epoch 19/30\n",
      "1407/1407 [==============================] - 9s 6ms/step - loss: 0.2999 - accuracy: 0.9164 - val_loss: 0.3025 - val_accuracy: 0.9156\n",
      "Epoch 20/30\n",
      "1407/1407 [==============================] - 9s 7ms/step - loss: 0.2985 - accuracy: 0.9165 - val_loss: 0.3010 - val_accuracy: 0.9165\n",
      "Epoch 21/30\n",
      "1407/1407 [==============================] - 12s 8ms/step - loss: 0.2970 - accuracy: 0.9170 - val_loss: 0.3001 - val_accuracy: 0.9170\n",
      "Epoch 22/30\n",
      "1407/1407 [==============================] - 9s 6ms/step - loss: 0.2956 - accuracy: 0.9176 - val_loss: 0.2991 - val_accuracy: 0.9177\n",
      "Epoch 23/30\n",
      "1407/1407 [==============================] - 9s 7ms/step - loss: 0.2945 - accuracy: 0.9178 - val_loss: 0.2986 - val_accuracy: 0.9166\n",
      "Epoch 24/30\n",
      "1407/1407 [==============================] - 10s 7ms/step - loss: 0.2932 - accuracy: 0.9178 - val_loss: 0.2973 - val_accuracy: 0.9174\n",
      "Epoch 25/30\n",
      "1407/1407 [==============================] - 7s 5ms/step - loss: 0.2920 - accuracy: 0.9183 - val_loss: 0.2966 - val_accuracy: 0.9179\n",
      "Epoch 26/30\n",
      "1407/1407 [==============================] - 7s 5ms/step - loss: 0.2910 - accuracy: 0.9185 - val_loss: 0.2961 - val_accuracy: 0.9173\n",
      "Epoch 27/30\n",
      "1407/1407 [==============================] - 7s 5ms/step - loss: 0.2900 - accuracy: 0.9188 - val_loss: 0.2956 - val_accuracy: 0.9177\n",
      "Epoch 28/30\n",
      "1407/1407 [==============================] - 6s 4ms/step - loss: 0.2889 - accuracy: 0.9188 - val_loss: 0.2947 - val_accuracy: 0.9185\n",
      "Epoch 29/30\n",
      "1407/1407 [==============================] - 11s 8ms/step - loss: 0.2881 - accuracy: 0.9194 - val_loss: 0.2943 - val_accuracy: 0.9181\n",
      "Epoch 30/30\n",
      "1407/1407 [==============================] - 11s 8ms/step - loss: 0.2871 - accuracy: 0.9197 - val_loss: 0.2930 - val_accuracy: 0.9185\n"
     ]
    }
   ],
   "source": [
    "history = model.fit(x=X_train_scaled,\n",
    "          y= Y_train_hot,\n",
    "          batch_size=32,\n",
    "          epochs= 30,\n",
    "          validation_split=0.25,\n",
    "          shuffle=True,\n",
    "          use_multiprocessing=True)"
   ]
  },
  {
   "cell_type": "markdown",
   "id": "52c589bf",
   "metadata": {},
   "source": [
    "2. Plot the evolution of the loss function and the accuracy in function of the training epochs."
   ]
  },
  {
   "cell_type": "code",
   "execution_count": 19,
   "id": "b934f702",
   "metadata": {},
   "outputs": [
    {
     "data": {
      "text/plain": [
       "dict_keys(['loss', 'accuracy', 'val_loss', 'val_accuracy'])"
      ]
     },
     "execution_count": 19,
     "metadata": {},
     "output_type": "execute_result"
    }
   ],
   "source": [
    "history.history.keys()"
   ]
  },
  {
   "cell_type": "code",
   "execution_count": 20,
   "id": "57d02ef0",
   "metadata": {},
   "outputs": [
    {
     "data": {
      "image/png": "[encoded data removed]",
      "text/plain": [
       "<Figure size 640x480 with 1 Axes>"
      ]
     },
     "metadata": {},
     "output_type": "display_data"
    }
   ],
   "source": [
    "train_losses=history.history['loss']\n",
    "val_losses = history.history['val_loss']\n",
    "val_acc = history.history['val_accuracy']\n",
    "\n",
    "plt.figure()\n",
    "plt.plot(train_losses)\n",
    "plt.plot(val_losses)\n",
    "plt.plot(val_acc)\n",
    "plt.show()"
   ]
  },
  {
   "cell_type": "code",
   "execution_count": 21,
   "id": "63428304",
   "metadata": {},
   "outputs": [
    {
     "name": "stdout",
     "output_type": "stream",
     "text": [
      "313/313 [==============================] - 1s 3ms/step - loss: 0.2841 - accuracy: 0.9206\n"
     ]
    },
    {
     "data": {
      "text/plain": [
       "[0.28408265113830566, 0.9205999970436096]"
      ]
     },
     "execution_count": 21,
     "metadata": {},
     "output_type": "execute_result"
    }
   ],
   "source": [
    "model.evaluate(X_test_scaled, Y_test_hot)"
   ]
  },
  {
   "cell_type": "code",
   "execution_count": 22,
   "id": "71b0d45d",
   "metadata": {},
   "outputs": [
    {
     "name": "stdout",
     "output_type": "stream",
     "text": [
      "1/1 [==============================] - 0s 157ms/step\n"
     ]
    },
    {
     "data": {
      "text/plain": [
       "array([[2.9431775e-03, 1.8976420e-05, 4.2008548e-03, 2.0956933e-01,\n",
       "        4.4413955e-06, 7.7596807e-01, 5.7655451e-04, 4.0781596e-03,\n",
       "        1.9415709e-03, 6.9887523e-04]], dtype=float32)"
      ]
     },
     "execution_count": 22,
     "metadata": {},
     "output_type": "execute_result"
    }
   ],
   "source": [
    "model.predict(X_train_scaled[0:1]) #we should give it as an argument a batch with only one image"
   ]
  },
  {
   "cell_type": "code",
   "execution_count": 23,
   "id": "dbbba324",
   "metadata": {},
   "outputs": [
    {
     "name": "stdout",
     "output_type": "stream",
     "text": [
      "1/1 [==============================] - 0s 48ms/step\n"
     ]
    },
    {
     "data": {
      "text/plain": [
       "5"
      ]
     },
     "execution_count": 23,
     "metadata": {},
     "output_type": "execute_result"
    }
   ],
   "source": [
    "import numpy as np\n",
    "np.argmax(model.predict(X_train_scaled[0:1]))"
   ]
  },
  {
   "cell_type": "markdown",
   "id": "3f06865c",
   "metadata": {},
   "source": [
    "## 4. Improving the Model’s Performance"
   ]
  },
  {
   "cell_type": "code",
   "execution_count": 24,
   "id": "49b714e3",
   "metadata": {},
   "outputs": [],
   "source": [
    "import tensorflow as tf\n",
    "\n",
    "model = tf.keras.Sequential([\n",
    "    tf.keras.layers.Flatten(input_shape=(28, 28)),  # Input layer\n",
    "    tf.keras.layers.Dense(64, activation='relu'),    # Hidden layer with 64 neurons and ReLU activation\n",
    "    tf.keras.layers.Dense(10, activation='softmax')  # Output layer with 10 neurons (for 10 classes)\n",
    "])\n",
    "\n",
    "model.compile(loss='categorical_crossentropy',\n",
    "             optimizer=tf.keras.optimizers.SGD(learning_rate=0.01),\n",
    "             metrics=['accuracy'])\n"
   ]
  },
  {
   "cell_type": "code",
   "execution_count": 25,
   "id": "7d10cd87",
   "metadata": {},
   "outputs": [
    {
     "name": "stdout",
     "output_type": "stream",
     "text": [
      "Epoch 1/30\n",
      "1407/1407 [==============================] - 11s 8ms/step - loss: 0.7793 - accuracy: 0.7999 - val_loss: 0.4146 - val_accuracy: 0.8879\n",
      "Epoch 2/30\n",
      "1407/1407 [==============================] - 9s 7ms/step - loss: 0.3807 - accuracy: 0.8950 - val_loss: 0.3370 - val_accuracy: 0.9069\n",
      "Epoch 3/30\n",
      "1407/1407 [==============================] - 10s 7ms/step - loss: 0.3263 - accuracy: 0.9082 - val_loss: 0.3056 - val_accuracy: 0.9137\n",
      "Epoch 4/30\n",
      "1407/1407 [==============================] - 13s 9ms/step - loss: 0.2963 - accuracy: 0.9161 - val_loss: 0.2853 - val_accuracy: 0.9202\n",
      "Epoch 5/30\n",
      "1407/1407 [==============================] - 13s 9ms/step - loss: 0.2742 - accuracy: 0.9223 - val_loss: 0.2666 - val_accuracy: 0.9243\n",
      "Epoch 6/30\n",
      "1407/1407 [==============================] - 10s 7ms/step - loss: 0.2557 - accuracy: 0.9279 - val_loss: 0.2518 - val_accuracy: 0.9295\n",
      "Epoch 7/30\n",
      "1407/1407 [==============================] - 13s 9ms/step - loss: 0.2401 - accuracy: 0.9320 - val_loss: 0.2399 - val_accuracy: 0.9337\n",
      "Epoch 8/30\n",
      "1407/1407 [==============================] - 10s 7ms/step - loss: 0.2264 - accuracy: 0.9357 - val_loss: 0.2379 - val_accuracy: 0.9327\n",
      "Epoch 9/30\n",
      "1407/1407 [==============================] - 7s 5ms/step - loss: 0.2144 - accuracy: 0.9388 - val_loss: 0.2199 - val_accuracy: 0.9387\n",
      "Epoch 10/30\n",
      "1407/1407 [==============================] - 10s 7ms/step - loss: 0.2037 - accuracy: 0.9424 - val_loss: 0.2099 - val_accuracy: 0.9417\n",
      "Epoch 11/30\n",
      "1407/1407 [==============================] - 14s 10ms/step - loss: 0.1942 - accuracy: 0.9450 - val_loss: 0.2048 - val_accuracy: 0.9425\n",
      "Epoch 12/30\n",
      "1407/1407 [==============================] - 10s 7ms/step - loss: 0.1856 - accuracy: 0.9475 - val_loss: 0.1973 - val_accuracy: 0.9438\n",
      "Epoch 13/30\n",
      "1407/1407 [==============================] - 11s 8ms/step - loss: 0.1778 - accuracy: 0.9500 - val_loss: 0.1909 - val_accuracy: 0.9457\n",
      "Epoch 14/30\n",
      "1407/1407 [==============================] - 12s 9ms/step - loss: 0.1711 - accuracy: 0.9510 - val_loss: 0.1860 - val_accuracy: 0.9472\n",
      "Epoch 15/30\n",
      "1407/1407 [==============================] - 11s 8ms/step - loss: 0.1644 - accuracy: 0.9534 - val_loss: 0.1804 - val_accuracy: 0.9482\n",
      "Epoch 16/30\n",
      "1407/1407 [==============================] - 12s 9ms/step - loss: 0.1585 - accuracy: 0.9554 - val_loss: 0.1755 - val_accuracy: 0.9501\n",
      "Epoch 17/30\n",
      "1407/1407 [==============================] - 10s 7ms/step - loss: 0.1530 - accuracy: 0.9568 - val_loss: 0.1726 - val_accuracy: 0.9507\n",
      "Epoch 18/30\n",
      "1407/1407 [==============================] - 12s 8ms/step - loss: 0.1478 - accuracy: 0.9582 - val_loss: 0.1675 - val_accuracy: 0.9524\n",
      "Epoch 19/30\n",
      "1407/1407 [==============================] - 13s 9ms/step - loss: 0.1430 - accuracy: 0.9600 - val_loss: 0.1653 - val_accuracy: 0.9511\n",
      "Epoch 20/30\n",
      "1407/1407 [==============================] - 12s 9ms/step - loss: 0.1386 - accuracy: 0.9608 - val_loss: 0.1606 - val_accuracy: 0.9539\n",
      "Epoch 21/30\n",
      "1407/1407 [==============================] - 7s 5ms/step - loss: 0.1345 - accuracy: 0.9624 - val_loss: 0.1579 - val_accuracy: 0.9542\n",
      "Epoch 22/30\n",
      "1407/1407 [==============================] - 12s 8ms/step - loss: 0.1304 - accuracy: 0.9631 - val_loss: 0.1547 - val_accuracy: 0.9547\n",
      "Epoch 23/30\n",
      "1407/1407 [==============================] - 13s 9ms/step - loss: 0.1266 - accuracy: 0.9645 - val_loss: 0.1536 - val_accuracy: 0.9555\n",
      "Epoch 24/30\n",
      "1407/1407 [==============================] - 10s 7ms/step - loss: 0.1232 - accuracy: 0.9653 - val_loss: 0.1494 - val_accuracy: 0.9566\n",
      "Epoch 25/30\n",
      "1407/1407 [==============================] - 12s 8ms/step - loss: 0.1197 - accuracy: 0.9667 - val_loss: 0.1485 - val_accuracy: 0.9567\n",
      "Epoch 26/30\n",
      "1407/1407 [==============================] - 8s 6ms/step - loss: 0.1163 - accuracy: 0.9672 - val_loss: 0.1448 - val_accuracy: 0.9571\n",
      "Epoch 27/30\n",
      "1407/1407 [==============================] - 6s 5ms/step - loss: 0.1132 - accuracy: 0.9679 - val_loss: 0.1431 - val_accuracy: 0.9583\n",
      "Epoch 28/30\n",
      "1407/1407 [==============================] - 12s 8ms/step - loss: 0.1103 - accuracy: 0.9691 - val_loss: 0.1404 - val_accuracy: 0.9584\n",
      "Epoch 29/30\n",
      "1407/1407 [==============================] - 11s 8ms/step - loss: 0.1078 - accuracy: 0.9698 - val_loss: 0.1401 - val_accuracy: 0.9589\n",
      "Epoch 30/30\n",
      "1407/1407 [==============================] - 11s 8ms/step - loss: 0.1052 - accuracy: 0.9705 - val_loss: 0.1371 - val_accuracy: 0.9593\n"
     ]
    }
   ],
   "source": [
    "history1 = model.fit(x=X_train_scaled,\n",
    "          y= Y_train_hot,\n",
    "          batch_size=32,\n",
    "          epochs= 30,\n",
    "          validation_split=0.25,\n",
    "          shuffle=True,\n",
    "          use_multiprocessing=True)"
   ]
  },
  {
   "cell_type": "code",
   "execution_count": 26,
   "id": "59666a52",
   "metadata": {},
   "outputs": [
    {
     "data": {
      "text/plain": [
       "dict_keys(['loss', 'accuracy', 'val_loss', 'val_accuracy'])"
      ]
     },
     "execution_count": 26,
     "metadata": {},
     "output_type": "execute_result"
    }
   ],
   "source": [
    "history1.history.keys()"
   ]
  },
  {
   "cell_type": "code",
   "execution_count": 27,
   "id": "cc736144",
   "metadata": {},
   "outputs": [
    {
     "data": {
      "image/png": "[encoded data removed]",
      "text/plain": [
       "<Figure size 640x480 with 1 Axes>"
      ]
     },
     "metadata": {},
     "output_type": "display_data"
    }
   ],
   "source": [
    "train_losses=history1.history['loss']\n",
    "val_losses = history1.history['val_loss']\n",
    "val_acc = history1.history['val_accuracy']\n",
    "accuracy = history1.history['accuracy']\n",
    "\n",
    "plt.figure()\n",
    "plt.plot(train_losses)\n",
    "plt.plot(val_losses)\n",
    "plt.plot(val_acc)\n",
    "plt.plot(accuracy)\n",
    "plt.show()"
   ]
  },
  {
   "cell_type": "markdown",
   "id": "a1f7e7dd",
   "metadata": {},
   "source": [
    "Visualize misclassified images:"
   ]
  },
  {
   "cell_type": "code",
   "execution_count": 28,
   "id": "49f50dd5",
   "metadata": {},
   "outputs": [
    {
     "name": "stdout",
     "output_type": "stream",
     "text": [
      "313/313 [==============================] - 1s 3ms/step\n"
     ]
    },
    {
     "data": {
      "image/png": "[encoded data removed]",
      "text/plain": [
       "<Figure size 100x100 with 1 Axes>"
      ]
     },
     "metadata": {},
     "output_type": "display_data"
    },
    {
     "data": {
      "image/png": "[encoded data removed]",
      "text/plain": [
       "<Figure size 100x100 with 1 Axes>"
      ]
     },
     "metadata": {},
     "output_type": "display_data"
    },
    {
     "data": {
      "image/png": "[encoded data removed]",
      "text/plain": [
       "<Figure size 100x100 with 1 Axes>"
      ]
     },
     "metadata": {},
     "output_type": "display_data"
    },
    {
     "data": {
      "image/png": "[encoded data removed]",
      "text/plain": [
       "<Figure size 100x100 with 1 Axes>"
      ]
     },
     "metadata": {},
     "output_type": "display_data"
    },
    {
     "data": {
      "image/png": "[encoded data removed]",
      "text/plain": [
       "<Figure size 100x100 with 1 Axes>"
      ]
     },
     "metadata": {},
     "output_type": "display_data"
    }
   ],
   "source": [
    "import matplotlib.pyplot as plt\n",
    "import numpy as np\n",
    "\n",
    "y_pred = model.predict(X_test_scaled)\n",
    "\n",
    "misclassified_indices = np.where(np.argmax(y_pred, axis=1) != np.argmax(Y_test_hot, axis=1))[0]\n",
    "\n",
    "for i in misclassified_indices[:5]:\n",
    "    plt.figure(figsize=(1, 1))\n",
    "    plt.imshow(X_test[i], cmap='gray')\n",
    "    plt.title(f\"True Label: {np.argmax(Y_test_hot[i])}, Predicted Label: {np.argmax(y_pred[i])}\")\n",
    "    plt.show()\n"
   ]
  },
  {
   "cell_type": "code",
   "execution_count": null,
   "id": "1e771536",
   "metadata": {},
   "outputs": [],
   "source": []
  }
 ],
 "metadata": {
  "kernelspec": {
   "display_name": "Python 3 (ipykernel)",
   "language": "python",
   "name": "python3"
  },
  "language_info": {
   "codemirror_mode": {
    "name": "ipython",
    "version": 3
   },
   "file_extension": ".py",
   "mimetype": "text/x-python",
   "name": "python",
   "nbconvert_exporter": "python",
   "pygments_lexer": "ipython3",
   "version": "3.9.13"
  }
 },
 "nbformat": 4,
 "nbformat_minor": 5
}
